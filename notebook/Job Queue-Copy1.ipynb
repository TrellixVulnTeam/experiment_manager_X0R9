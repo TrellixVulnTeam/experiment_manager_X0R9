{
 "cells": [
  {
   "cell_type": "code",
   "execution_count": 68,
   "metadata": {
    "collapsed": false
   },
   "outputs": [],
   "source": [
    "import sys\n",
    "sys.path.append('..')\n",
    "import os\n",
    "import kidlearn_lib as k_lib\n",
    "import copy\n",
    "import numpy"
   ]
  },
  {
   "cell_type": "code",
   "execution_count": 53,
   "metadata": {
    "collapsed": false
   },
   "outputs": [],
   "source": [
    "from experiment_manager.job_queue import get_jobqueue"
   ]
  },
  {
   "cell_type": "code",
   "execution_count": 54,
   "metadata": {
    "collapsed": true
   },
   "outputs": [],
   "source": [
    "#jq_config = {\n",
    "#    'jq_type': 'avakas',\n",
    "#    'ssh_cfg':{'username':'bclement'}\n",
    "#}\n",
    "\n",
    "jq_config = {\n",
    "    'jq_type': 'local',\n",
    "    'max_jobs' : 100\n",
    "}"
   ]
  },
  {
   "cell_type": "code",
   "execution_count": 55,
   "metadata": {
    "collapsed": true
   },
   "outputs": [],
   "source": [
    "from experiment_manager.job import IteratedJob"
   ]
  },
  {
   "cell_type": "code",
   "execution_count": 56,
   "metadata": {
    "collapsed": false
   },
   "outputs": [],
   "source": [
    "jq = get_jobqueue(**jq_config)\n",
    "#\n"
   ]
  },
  {
   "cell_type": "code",
   "execution_count": 57,
   "metadata": {
    "collapsed": false
   },
   "outputs": [],
   "source": [
    "params = {\n",
    "    \"algo_name\" : \"ZpdesHssbg\",\n",
    "    \"graph\": { \n",
    "        \"file_name\" :\"KT6kc_graph\",\n",
    "        \"path\" : \"graph/\",\n",
    "        \"main_act\" : \"KT6kc\"\n",
    "        },\n",
    "    \n",
    "    \"ZpdesSsbg\": {\n",
    "        \"ZpdesSsb\" :{\n",
    "            \"filter1\": 0.2, \n",
    "            \"filter2\": 0.8, \n",
    "            \"uniformval\": 0.05,\n",
    "            \"stepUpdate\" : 6,\n",
    "            \"upZPDval\" : 0.5,\n",
    "            \"deactZPDval\" : 0.6,\n",
    "            \"promote_coeff\" : 1,\n",
    "            \"thresHierarProm\" : 0.3,\n",
    "            \"h_promote_coeff\" : 1,\n",
    "            \"thresZBegin\" : 0.4,\n",
    "            \"size_window\": 3,\n",
    "            \"spe_promo\" : 0\n",
    "            }\n",
    "        }\n",
    "    }\n",
    "\n",
    "stud = k_lib.student.KTstudent(params_file=\"stud_KT6kc\",directory=\"params_files/studModel\")\n",
    "zpdes = k_lib.seq_manager.ZpdesHssbg(params=params)\n",
    "ws_tab_zpdes = []\n",
    "for i in range(100):\n",
    "    ws_tab_zpdes.append(k_lib.experimentation.WorkingSession(student=copy.deepcopy(stud), seq_manager = copy.deepcopy(zpdes)))\n",
    "wG_zpdes = k_lib.experimentation.WorkingGroup(WorkingSessions = ws_tab_zpdes)\n",
    "\n",
    "kidleanrUrl = '-e git+https://github.com/flowersteam/kidlearn.git@origin/feature/xp_script#egg=kidlearn_lib'\n",
    "expeManageUrl = '-e git+https://github.com/wschuell/experiment_manager.git@origin/develop#egg=experiment_manager'\n",
    "jrequirements = [expeManageUrl,kidleanrUrl]\n",
    "for i in range(5):\n",
    "    jq.add_job(IteratedJob(filename=str(i)+\".dat\", obj=copy.deepcopy(wG_zpdes),step_fun=\"step_forward\",steps=100,virtual_env=\"test\",requirements=jrequirements))\n"
   ]
  },
  {
   "cell_type": "code",
   "execution_count": 58,
   "metadata": {
    "collapsed": false,
    "scrolled": true
   },
   "outputs": [
    {
     "name": "stdout",
     "output_type": "stream",
     "text": [
      "jobs/2015-10-27_12-10-16__4da0771e-7c9b-11e5-a173-f01faf1b32a8\n",
      "pending\n",
      "None\n"
     ]
    }
   ],
   "source": [
    "print j.path\n",
    "print j.status\n",
    "print j.data"
   ]
  },
  {
   "cell_type": "code",
   "execution_count": 70,
   "metadata": {
    "collapsed": false
   },
   "outputs": [
    {
     "data": {
      "text/plain": [
       "[0.10000000000000001,\n",
       " 0.20000000000000001,\n",
       " 0.30000000000000004,\n",
       " 0.40000000000000002,\n",
       " 0.5,\n",
       " 0.59999999999999998,\n",
       " 0.70000000000000007,\n",
       " 0.80000000000000004]"
      ]
     },
     "execution_count": 70,
     "metadata": {},
     "output_type": "execute_result"
    }
   ],
   "source": [
    "list(numpy.arange(0.1,0.9,0.1))"
   ]
  },
  {
   "cell_type": "code",
   "execution_count": 62,
   "metadata": {
    "collapsed": false
   },
   "outputs": [],
   "source": [
    "jq.update_queue()"
   ]
  },
  {
   "cell_type": "code",
   "execution_count": 28,
   "metadata": {
    "collapsed": false
   },
   "outputs": [
    {
     "name": "stdout",
     "output_type": "stream",
     "text": [
      "[<experiment_manager.job.classic_job.IteratedJob object at 0x7f7a7af908d0>]\n",
      "running\n",
      "600\n",
      "0.0\n",
      "0.0\n"
     ]
    }
   ],
   "source": [
    "print jq.job_list\n",
    "print jq.job_list[0].status\n",
    "print jq.job_list[0].estimated_time\n",
    "print jq.job_list[0].init_time\n",
    "print jq.job_list[0].exec_time"
   ]
  },
  {
   "cell_type": "code",
   "execution_count": 47,
   "metadata": {
    "collapsed": false
   },
   "outputs": [],
   "source": [
    "import cPickle\n",
    "import bz2\n",
    "wkgs = {}\n",
    "for i in range(5):\n",
    "    filename = \"{}.dat\".format(i)\n",
    "    with open(filename) as f:\n",
    "         wkgs[\"zpdes\"+str(i)] = [cPickle.loads(bz2.decompress(f.read()))]\n",
    "            \n",
    "    params = {\n",
    "        \"ref_expe\" : \"firsttestavakas\",\n",
    "        \"path_to_save\" : \"firsttestavakas\",\n",
    "        \"seq_manager_list\": wkgs.keys(), #\"RIARIT\"\n",
    "        \"nb_step\" : 100,\n",
    "        \"population\" : {\n",
    "            \"nb_students\" : 100,\n",
    "            \"model\" : \"KT_student\",\n",
    "        }\n",
    "    }\n",
    "\n",
    "xp = k_lib.experimentation.Experiment(WorkingGroups = wkgs, params = params)"
   ]
  },
  {
   "cell_type": "code",
   "execution_count": 48,
   "metadata": {
    "collapsed": false
   },
   "outputs": [],
   "source": [
    "sys.path.append(\"../../kidlearn/run_xp\")"
   ]
  },
  {
   "cell_type": "code",
   "execution_count": 49,
   "metadata": {
    "collapsed": true
   },
   "outputs": [],
   "source": [
    "import run_xp"
   ]
  },
  {
   "cell_type": "code",
   "execution_count": 51,
   "metadata": {
    "collapsed": false
   },
   "outputs": [],
   "source": [
    "run_xp.draw_xp_graph(xp,xp.ref_expe,[\"V1\",\"V2\",\"V3\",\"V4\",\"V5\",\"V6\"], nb_ex_type = [1,1,1,1,1,1])"
   ]
  },
  {
   "cell_type": "code",
   "execution_count": null,
   "metadata": {
    "collapsed": true
   },
   "outputs": [],
   "source": []
  }
 ],
 "metadata": {
  "kernelspec": {
   "display_name": "Python 2",
   "language": "python",
   "name": "python2"
  },
  "language_info": {
   "codemirror_mode": {
    "name": "ipython",
    "version": 2
   },
   "file_extension": ".py",
   "mimetype": "text/x-python",
   "name": "python",
   "nbconvert_exporter": "python",
   "pygments_lexer": "ipython2",
   "version": "2.7.6"
  }
 },
 "nbformat": 4,
 "nbformat_minor": 0
}
